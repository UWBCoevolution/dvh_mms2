{
 "cells": [
  {
   "cell_type": "markdown",
   "metadata": {},
   "source": [
    "# Identify procedural reasons for 'all-nothing-all' mutations\n",
    "## April 4, 2017\n",
    "\n",
    "Mutations that have 100% frequency in one generation, disappear completely (0%) in the next generation sampled, then reappear at 100% frequency. Potential explanations: \n",
    "\n",
    "1. Biological - Frequency-dependent selection? \n",
    "2. Procedural - Undersampled populations? Missing coverage during sequencing? Breseq frequency threshold for polymorphism mode (5-95%) not met?\n",
    "\n",
    "Input: \n",
    "1. HTML file from gdtools COMPARE\n",
    "2. GD files (annotated.gd) from breseq output.\n",
    "\n",
    "Tasks:\n",
    "1. Identify rows with 'all-nothing-all' (a-n-a) pattern in input HTML file, by mutation position.\n",
    "2. For each a-n-a, identify mutation position and generation(s) when 0% frequency occurs.\n",
    "3. For each 0% frequency occurrence in a-n-a, refer to relevant annotated.gd file to identify reason for frequency.\n",
    "4. Classify procedural reasons, summary counts."
   ]
  },
  {
   "cell_type": "code",
   "execution_count": 1,
   "metadata": {
    "collapsed": true
   },
   "outputs": [],
   "source": [
    "from bs4 import BeautifulSoup\n",
    "import re\n",
    "ua3 = BeautifulSoup(open('/Users/ymseah/Documents/compare/UA3.html'), 'html.parser')"
   ]
  },
  {
   "cell_type": "code",
   "execution_count": 2,
   "metadata": {
    "collapsed": true
   },
   "outputs": [],
   "source": [
    "#Task 1-2\n",
    "\n",
    "#1. Identify line-generation headers\n",
    "line_generations = []\n",
    "next_line_gen = ua3.find('th', string=re.compile('0'))\n",
    "line_gen = next_line_gen.string\n",
    "while line_gen != 'annotation':\n",
    "    line_generations.append(line_gen)\n",
    "    next_line_gen = next_line_gen.next_element.next_element.next_element\n",
    "    line_gen = next_line_gen.string"
   ]
  },
  {
   "cell_type": "code",
   "execution_count": 3,
   "metadata": {},
   "outputs": [
    {
     "name": "stdout",
     "output_type": "stream",
     "text": [
      "['0', 'UA3-100', 'UA3-300', 'UA3-500', 'UA3-780', 'UA3-1000']\n"
     ]
    }
   ],
   "source": [
    "print(line_generations)"
   ]
  },
  {
   "cell_type": "code",
   "execution_count": 4,
   "metadata": {
    "collapsed": true
   },
   "outputs": [],
   "source": [
    "#2. Identify ref genome and polymorphism position\n",
    "#3. Identify frequencies across generations\n",
    "#4. Link 2. and 3.\n",
    "\n",
    "table_cells = ua3.body.find_all('td')\n",
    "generation_frequencies_dict = {}\n",
    "for cell in table_cells:\n",
    "    if re.match('NC_', str(cell.string)):\n",
    "        position = cell.next_sibling.next_sibling.next_sibling\n",
    "        clean_position = int(re.sub(',', '', position.string))\n",
    "        gen_freqs_key = (cell.string, clean_position)\n",
    "        mutation = position.next_sibling.next_sibling.next_sibling\n",
    "        freq_ancestor = mutation.next_sibling.next_sibling.next_sibling\n",
    "        freq_gen100 = freq_ancestor.next_sibling\n",
    "        freq_gen300 = freq_gen100.next_sibling\n",
    "        freq_gen500 = freq_gen300.next_sibling\n",
    "        freq_gen780 = freq_gen500.next_sibling\n",
    "        freq_gen1000 = freq_gen780.next_sibling\n",
    "        gen_freqs_value = [mutation.string, freq_ancestor.string, freq_gen100.string, freq_gen300.string, freq_gen500.string, freq_gen780.string, freq_gen1000.string]\n",
    "        generation_frequencies_dict[gen_freqs_key] = gen_freqs_value"
   ]
  },
  {
   "cell_type": "code",
   "execution_count": 5,
   "metadata": {
    "collapsed": true
   },
   "outputs": [],
   "source": [
    "#5. Identify a-n-a pattern.\n",
    "\n",
    "suspect_frequencies_dict = {}\n",
    "with open('suspect_frequencies.tsv', 'w') as output_file:\n",
    "    output_file.write('ref_genome\\tposition\\tmutation\\tfreq_anc\\tfreq_100\\tfreq_300\\tfreq_500\\tfreq_780\\tfreq_1000\\n')\n",
    "    for key, value in generation_frequencies_dict.items():\n",
    "        counter = 2\n",
    "        while counter <= len(value):\n",
    "            if counter + 1 < len(value):\n",
    "                if value[counter] == None:\n",
    "                    if value[counter - 1] == '100%' or value[counter + 1] == '100%':\n",
    "                        suspect_frequencies_dict[key] = value\n",
    "                        output_file.write(key[0] + '\\t' + str(key[1]) + '\\t')\n",
    "                        for item in value:\n",
    "                            output_file.write(str(item) + '\\t')\n",
    "                        output_file.write('\\n')\n",
    "                elif value[counter] == '100%':\n",
    "                    if value[counter - 1] == None or value[counter + 1] == None:\n",
    "                        suspect_frequencies_dict[key] = value\n",
    "                        output_file.write(key[0] + '\\t' + str(key[1]) + '\\t')\n",
    "                        for item in value:\n",
    "                            output_file.write(str(item) + '\\t')\n",
    "                        output_file.write('\\n')\n",
    "            counter += 2"
   ]
  },
  {
   "cell_type": "code",
   "execution_count": 6,
   "metadata": {
    "collapsed": true
   },
   "outputs": [],
   "source": [
    "import numpy as np\n",
    "import pandas as pd\n",
    "import re\n",
    "UA3_100 = pd.read_table('/Users/ymseah/Documents/sic_UA3-15_breseq/annotated.gd', comment='#', names=range(50), dtype=str)\n",
    "UA3_100.insert(0, 'generation', 100)\n",
    "UA3_300 = pd.read_table('/Users/ymseah/Documents/sic_UA3.45_breseq/annotated.gd', comment='#', names=range(50), dtype=str)\n",
    "UA3_300.insert(0, 'generation', 300)\n",
    "UA3_500 = pd.read_table('/Users/ymseah/Documents/sic_UA3-76_breseq/annotated.gd', comment='#', names=range(50), dtype=str)\n",
    "UA3_500.insert(0, 'generation', 500)\n",
    "UA3_780 = pd.read_table('/Users/ymseah/Documents/sic_UA3.118_breseq/annotated.gd', comment='#', names=range(50), dtype=str)\n",
    "UA3_780.insert(0, 'generation', 780)\n",
    "UA3_1000 = pd.read_table('/Users/ymseah/Documents/sic_UA3_S2_L001_breseq/output/evidence/annotated.gd', comment='#', names=range(50), dtype=str)\n",
    "UA3_1000.insert(0, 'generation', 1000)\n",
    "\n",
    "UA3_df  = pd.concat([UA3_100, UA3_300, UA3_500, UA3_780, UA3_1000], ignore_index=True)\n",
    "UA3_df.insert(0, 'line', 'UA3')\n",
    "UA3_df.insert(2, 'frequency', 0.0)\n",
    "UA3_df.insert(3, 'gene_product', '')\n",
    "UA3_df.insert(4, 'gene_position', '')\n",
    "UA3_df.insert(5, 'reject', '')"
   ]
  },
  {
   "cell_type": "code",
   "execution_count": 7,
   "metadata": {
    "collapsed": true
   },
   "outputs": [],
   "source": [
    "for row in UA3_df.itertuples():\n",
    "    #check each column\n",
    "    col_index = 6\n",
    "    while col_index < 50:\n",
    "        #1. polymorphism frequencies\n",
    "        if re.match('frequency=', str(UA3_df.loc[row[0], col_index])):\n",
    "            UA3_df.loc[row[0], 'frequency'] = re.sub('frequency=', '', str(UA3_df.loc[row[0], col_index]))\n",
    "        #2. gene products\n",
    "        elif re.match('gene_product=', str(UA3_df.loc[row[0], col_index])):\n",
    "            UA3_df.loc[row[0], 'gene_product'] = re.sub('gene_product=', '', str(UA3_df.loc[row[0], col_index]))\n",
    "        #3. polymorphism rejection reasons\n",
    "        elif re.match('reject=', str(UA3_df.loc[row[0], col_index])):\n",
    "            UA3_df.loc[row[0], 'reject'] = re.sub('reject=', '', str(UA3_df.loc[row[0], col_index]))\n",
    "        #4. gene annotations\n",
    "        elif re.match('gene_position=', str(UA3_df.loc[row[0], col_index])):\n",
    "            UA3_df.loc[row[0], 'gene_position'] = re.sub('gene_position=', '', str(UA3_df.loc[row[0], col_index]))\n",
    "        col_index += 1\n",
    "    #set frequencies type to float\n",
    "    if re.match('1|2|3|4|5|6|7|8|9', str(UA3_df.loc[row[0], 'frequency'])):\n",
    "        UA3_df.loc[row[0], 'frequency'] = float(UA3_df.loc[row[0], 'frequency'])\n",
    "    else:\n",
    "        UA3_df.loc[row[0], 'frequency'] = 0.0\n",
    "    #set positions (col 4) type to int\n",
    "    UA3_df.loc[row[0], 4] = int(UA3_df.loc[row[0], 4])\n",
    "    #set reject col to 'NA' when no reject reason given.\n",
    "    if (UA3_df.loc[row[0], 'reject'] == '') & (UA3_df.loc[row[0], 2] == '.'):\n",
    "        UA3_df.loc[row[0], 'reject'] = 'NA'"
   ]
  },
  {
   "cell_type": "code",
   "execution_count": 8,
   "metadata": {
    "collapsed": true,
    "scrolled": false
   },
   "outputs": [],
   "source": [
    "UA3_df.rename(columns = {0: 'entry_type', 1: 'item_id', 2: 'evidence_ids', 3: 'ref_genome', 4:'position'}, inplace=True)\n",
    "ua3df_subset = UA3_df[['line', 'generation', 'frequency', 'gene_product', 'gene_position', 'reject', 'entry_type', 'item_id', 'evidence_ids', 'ref_genome', 'position']].copy()\n",
    "ua3df_subset.to_csv('/Users/ymseah/Documents/ua3.csv', index=False)"
   ]
  },
  {
   "cell_type": "code",
   "execution_count": 13,
   "metadata": {},
   "outputs": [],
   "source": [
    "#6: Identify reasons for a-n-a frequencies.\n",
    "\n",
    "ua3df_subset_mutations_only = ua3df_subset[(ua3df_subset['entry_type'] == 'SNP') | \n",
    "                                           (ua3df_subset['entry_type'] == 'SUB') | \n",
    "                                           (ua3df_subset['entry_type'] == 'DEL') | \n",
    "                                           (ua3df_subset['entry_type'] == 'INS') | \n",
    "                                           (ua3df_subset['entry_type'] == 'MOB') | \n",
    "                                           (ua3df_subset['entry_type'] == 'AMP') | \n",
    "                                           (ua3df_subset['entry_type'] == 'CON') | \n",
    "                                           (ua3df_subset['entry_type'] == 'INV')]\n",
    "for key, value in suspect_frequencies_dict.items():\n",
    "    row_indices = ua3df_subset_mutations_only[(ua3df_subset_mutations_only['ref_genome'] == key[0]) & \n",
    "                                              (ua3df_subset_mutations_only['position'] == key[1])].index.tolist()\n",
    "    #print(key, row_indices)\n",
    "    for row in row_indices:\n",
    "        reject_reason = ua3df_subset_mutations_only.loc[row, 'reject']\n",
    "        generation = ua3df_subset_mutations_only.loc[row, 'generation']\n",
    "        entry_type = ua3df_subset_mutations_only.loc[row, 'entry_type']\n",
    "        #print(row, reject_reason, generation, entry_type)\n",
    "        if reject_reason != '':\n",
    "            if generation == 100:\n",
    "                value[2] = str(value[2]) + ' ' + reject_reason\n",
    "            elif generation == 300:\n",
    "                value[3] = str(value[3]) + ' ' + reject_reason\n",
    "            elif generation == 500:\n",
    "                value[4] = str(value[4]) + ' ' + reject_reason\n",
    "            elif generation == 780:\n",
    "                value[5] = str(value[5]) + ' ' + reject_reason\n",
    "            elif generation == 1000:\n",
    "                value[6] = str(value[6]) + ' ' + reject_reason"
   ]
  },
  {
   "cell_type": "markdown",
   "metadata": {},
   "source": [
    "## Problems & Solutions\n",
    "\n",
    "#### String sorting messes up generation order. \n",
    "\n",
    "```\n",
    "find_line_generations = set(ua3.find_all('th', string=re.compile('UA3')))\n",
    "line_generations=['0']\n",
    "for each in find_line_generations:\n",
    "    line_generations.append(each.string)\n",
    "    line_generations.sort()\n",
    "print(line_generations)\n",
    "```\n",
    "\n",
    "- Solved by appending in order of appearance in document.\n",
    "\n",
    "\n",
    "#### Identifying frequencies in each row, when there are no string elements within each cell to represent 0% frequency. \n",
    "\n",
    "\n",
    "```\n",
    "frequencies_by_generations = {}\n",
    "all_comments = ua3.find_all(text = lambda text:isinstance(text, Comment))\n",
    "for comment in all_comments:\n",
    "    if comment == ' Seq_Id ':\n",
    "        ref_genome = comment.previous_element.strip()\n",
    "        position = comment.next_element.next_element.next_element.strip()\n",
    "        genome_position_key = (ref_genome, position)\n",
    "        generation_frequencies_value = []\n",
    "        #gen_freq = comment.next_sibling.next_sibling.next_sibling.next_sibling.next_sibling.next_sibling.next_sibling.next_sibling.next_element.strip()\n",
    "        print(genome_position_key)\n",
    "```\n",
    "\n",
    "- Solved by listing each cell (td) as an element and searching within td. Initially, searching was by html comment position, but it got messy.\n"
   ]
  }
 ],
 "metadata": {
  "kernelspec": {
   "display_name": "Python [default]",
   "language": "python",
   "name": "python3"
  },
  "language_info": {
   "codemirror_mode": {
    "name": "ipython",
    "version": 3
   },
   "file_extension": ".py",
   "mimetype": "text/x-python",
   "name": "python",
   "nbconvert_exporter": "python",
   "pygments_lexer": "ipython3",
   "version": "3.5.2"
  }
 },
 "nbformat": 4,
 "nbformat_minor": 2
}
