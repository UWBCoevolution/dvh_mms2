{
 "cells": [
  {
   "cell_type": "code",
   "execution_count": 1,
   "metadata": {
    "collapsed": true
   },
   "outputs": [],
   "source": [
    "import numpy as np\n",
    "import pandas as pd\n",
    "import re\n",
    "import matplotlib.pyplot as plt"
   ]
  },
  {
   "cell_type": "code",
   "execution_count": 45,
   "metadata": {
    "collapsed": true
   },
   "outputs": [],
   "source": [
    "def sum_cov(cov_str):\n",
    "    cov_ints = cov_str.split('/')\n",
    "    total_cov = 0\n",
    "    for cov in cov_ints:\n",
    "        total_cov += int(cov)\n",
    "    return total_cov\n",
    "\n",
    "def subset_gd_to_df(gdfile, cov=False):\n",
    "    '''\n",
    "    Returns dataframe created from annotated.gd. All rows are preserved,\n",
    "    but only selected variables, namely entry type, entry id, \n",
    "    evidence id, genome id, position, mutation detail, frequency, gene product, \n",
    "    reject reasons, prediction mode, and polymorphism frequencies. \n",
    "    \n",
    "    If cov=True, will also report total coverage (i.e., total_cov), \n",
    "    RA coverage (new_cov), JC coverage (new_junction_read_count), \n",
    "    and MC-flanking coverage (left_outside_cov + right_outside_cov).\n",
    "    '''\n",
    "    df = pd.read_table(gdfile, comment='#', names=range(200), dtype=str)\n",
    "    df = df.dropna(axis=1, how='all')\n",
    "    num_columns = len(df.columns)\n",
    "    # https://stackoverflow.com/questions/27700591/reading-csv-files-with-messy-structure-with-pandas\n",
    "    df.rename(columns = {0: 'entry_type', 1: 'entry_id', 2: 'evidence_id', \n",
    "                         3: 'genome_id', 4: 'position', 5: 'mutation_detail'}, inplace=True)\n",
    "    for row in df.index:\n",
    "        #check each column\n",
    "        col_index = 6\n",
    "        while col_index < num_columns:\n",
    "            #1. mutation frequencies\n",
    "            if re.match('frequency=', str(df.loc[row, col_index])):\n",
    "                df.loc[row, 'frequency'] = re.sub('frequency=', '', str(df.loc[row, col_index]))\n",
    "                if df.loc[row, 'frequency'] == 'NA':\n",
    "                    df.loc[row, 'frequency'] = np.nan\n",
    "            #2. gene products\n",
    "            elif re.match('gene_product=', str(df.loc[row, col_index])):\n",
    "                df.loc[row, 'gene_product'] = re.sub('gene_product=', '', str(df.loc[row, col_index]))\n",
    "            #3. polymorphism rejection reasons\n",
    "            elif re.match('reject=', str(df.loc[row, col_index])):\n",
    "                df.loc[row, 'reject'] = re.sub('reject=', '', str(df.loc[row, col_index]))\n",
    "            #4. prediction type\n",
    "            elif re.match('prediction=', str(df.loc[row, col_index])):\n",
    "                df.loc[row, 'prediction'] = re.sub('prediction=', '', str(df.loc[row, col_index]))\n",
    "            #5. polymorphism mode frequencies\n",
    "            elif re.match('polymorphism_frequency=', str(df.loc[row, col_index])):\n",
    "                df.loc[row, 'polymorphism_frequency'] = re.sub('polymorphism_frequency=', '', str(df.loc[row, col_index]))\n",
    "                if df.loc[row, 'polymorphism_frequency'] == 'NA':\n",
    "                    df.loc[row, 'polymorphism_frequency'] = np.nan\n",
    "            \n",
    "            if cov == True:\n",
    "                if re.match('total_cov=', str(df.loc[row, col_index])):\n",
    "                    total_cov = re.sub('total_cov=', '', str(df.loc[row, col_index]))\n",
    "                    df.loc[row, 'total_cov'] = sum_cov(total_cov)\n",
    "                elif re.match('new_cov=', str(df.loc[row, col_index])):\n",
    "                    ra_cov = re.sub('new_cov=', '', str(df.loc[row, col_index]))\n",
    "                    df.loc[row, 'ra_cov'] = sum_cov(ra_cov)\n",
    "                elif re.match('new_junction_read_count=', str(df.loc[row, col_index])):\n",
    "                    df.loc[row, 'jc_cov'] = re.sub('new_junction_read_count=', '', str(df.loc[row, col_index]))\n",
    "                elif re.match('left_outside_cov=', str(df.loc[row, col_index])):\n",
    "                    left_cov = re.sub('left_outside_cov=', '', str(df.loc[row, col_index]))\n",
    "                    if left_cov == 'NA':\n",
    "                        left_cov = 0\n",
    "                    else:\n",
    "                        df.loc[row, 'left_cov'] = int(left_cov)\n",
    "                elif re.match('right_outside_cov', str(df.loc[row, col_index])):\n",
    "                    right_cov = re.sub('right_outside_cov=', '', str(df.loc[row, col_index]))\n",
    "                    if right_cov == 'NA':\n",
    "                        right_cov = 0\n",
    "                    else:\n",
    "                        df.loc[row, 'right_cov'] = int(right_cov)\n",
    "            col_index += 1\n",
    "        #set reject col to 'NA' when no reject reason given.\n",
    "        if 'reject' in df.columns:\n",
    "            if (df.loc[row, 'reject'] == '') & (df.loc[row, 'evidence_id'] == '.'):\n",
    "                df.loc[row, 'reject'] = np.nan\n",
    "        else:\n",
    "            df['reject'] = np.nan\n",
    "    #set frequencies type to float \n",
    "    df[['frequency', 'polymorphism_frequency']] = df[['frequency', 'polymorphism_frequency']].astype(float)\n",
    "    if cov == True:\n",
    "        df[['left_cov', 'right_cov']].fillna(0)\n",
    "        df['mc_cov'] = df.left_cov + df.right_cov\n",
    "        return df[['entry_type', 'entry_id', 'evidence_id', 'genome_id', 'position', 'mutation_detail', \n",
    "                   'frequency', 'gene_product', 'reject', 'prediction', 'polymorphism_frequency', \n",
    "                   'total_cov', 'ra_cov', 'jc_cov', 'mc_cov']].copy()\n",
    "    else:\n",
    "        return df[['entry_type', 'entry_id', 'evidence_id', 'genome_id', 'position', 'mutation_detail', \n",
    "                    'frequency', 'gene_product', 'reject', 'prediction', 'polymorphism_frequency']].copy()\n",
    "\n",
    "def select_mutation_rows(df):\n",
    "    '''\n",
    "    Selects mutation entry rows from dataframe. \n",
    "    '''\n",
    "    df_mutations = df[(df['entry_type'] == 'INS') | \n",
    "                      (df['entry_type'] == 'DEL') | \n",
    "                      (df['entry_type'] == 'SNP') | \n",
    "                      (df['entry_type'] == 'SUB') | \n",
    "                      (df['entry_type'] == 'MOB') | \n",
    "                      (df['entry_type'] == 'AMP') | \n",
    "                      (df['entry_type'] == 'CON') | \n",
    "                      (df['entry_type'] == 'INV')]\n",
    "    return df_mutations\n",
    "\n",
    "def add_evidence_to_mutation_rows(df):\n",
    "    '''\n",
    "    Adds new column for evidence. \n",
    "    Evidence type taken from evidence entry rows, added to mutation entry rows.\n",
    "    '''\n",
    "    df_mutations = select_mutation_rows(df)\n",
    "    df['evidence'] = ''\n",
    "    for evidence in df_mutations['evidence_id']:\n",
    "        multi_evidence = evidence.split(',')\n",
    "        count = 0\n",
    "        while count < len(multi_evidence):\n",
    "            entry_row_index = df_mutations[df_mutations['evidence_id'] == evidence].index[0]\n",
    "            evidence_row_index = df[df['entry_id'] == multi_evidence[count]].index[0]\n",
    "            df.loc[entry_row_index, 'prediction'] = df.loc[evidence_row_index, 'prediction']\n",
    "            df.loc[entry_row_index, 'polymorphism_frequency'] = df.loc[evidence_row_index, 'polymorphism_frequency']\n",
    "            df.loc[entry_row_index, 'evidence'] = df.loc[entry_row_index, 'evidence'] + df.loc[evidence_row_index, 'entry_type']\n",
    "            count += 1\n",
    "    return df\n",
    "\n",
    "def get_mutations_df(gdfile, culture_name, generation=np.nan):\n",
    "    '''\n",
    "    Adds new columns for culture name, and sampled generation.\n",
    "    Returns df of only mutation entry rows, with added evidence column.\n",
    "    '''\n",
    "    gd_subset = subset_gd_to_df(gdfile)\n",
    "    gd_subset_df = add_evidence_to_mutation_rows(gd_subset)\n",
    "    gd_subset_df.insert(0, 'culture', culture_name)\n",
    "    gd_subset_df.insert(1, 'generation', generation)\n",
    "    mutations_df = select_mutation_rows(gd_subset_df).copy()\n",
    "    return mutations_df\n",
    "\n",
    "def get_population_subset_frequencies_to_plot(population_df, subset_df):\n",
    "    '''\n",
    "    Merge two mutation dfs to plot frequencies of mutations in common.\n",
    "    '''\n",
    "    merged = pd.merge(population_df, subset_df, on=('genome_id', 'position'))\n",
    "    population_frequencies_df = merged.drop(['culture_y', 'generation_y', 'entry_type_y', 'entry_id_y', 'evidence_id_y', \n",
    "                                          'mutation_detail_y', 'frequency_y', 'gene_product_y', 'reject_y', \n",
    "                                          'prediction_y', 'polymorphism_frequency_y'], axis=1)\n",
    "    reshaped = population_frequencies_df.pivot_table(index=['genome_id', 'position', 'entry_type_x', 'mutation_detail_x'], \n",
    "                                                     columns='generation_x', \n",
    "                                                     values='polymorphism_frequency_x').fillna(0).T\n",
    "    return reshaped\n"
   ]
  },
  {
   "cell_type": "code",
   "execution_count": 4,
   "metadata": {},
   "outputs": [],
   "source": [
    "# Complete UA3 dataframe\n",
    "anc_complete = subset_gd_to_df('/Users/ymseah/Documents/sic_Ancestor_breseq/annotated.gd', cov=True)\n",
    "ua3_100_complete = subset_gd_to_df('/Users/ymseah/Documents/sic_UA3-15_breseq/annotated.gd', cov=True)\n",
    "ua3_300_complete = subset_gd_to_df('/Users/ymseah/Documents/sic_UA3.45_breseq/annotated.gd', cov=True)\n",
    "ua3_500_complete = subset_gd_to_df('/Users/ymseah/Documents/sic_UA3-76_breseq/annotated.gd', cov=True)\n",
    "ua3_780_complete = subset_gd_to_df('/Users/ymseah/Documents/sic_UA3.118_breseq/annotated.gd', cov=True)\n",
    "ua3_1000_complete = subset_gd_to_df('/Users/ymseah/Documents/sic_UA3_S2_L001_breseq/output/evidence/annotated.gd', cov=True)\n",
    "ua3_complete = pd.concat([anc_complete, ua3_100_complete, ua3_300_complete, ua3_500_complete, ua3_780_complete, \n",
    "                         ua3_1000_complete], ignore_index=True)"
   ]
  },
  {
   "cell_type": "code",
   "execution_count": 8,
   "metadata": {
    "collapsed": true
   },
   "outputs": [],
   "source": [
    "ra_freq_cov = ua3_complete[ua3_complete['entry_type'] == 'RA'].dropna(axis=1, how='all')\n",
    "jc_freq_cov = ua3_complete[ua3_complete['entry_type'] == 'JC'].dropna(axis=1, how='all')"
   ]
  },
  {
   "cell_type": "code",
   "execution_count": 52,
   "metadata": {},
   "outputs": [
    {
     "data": {
      "text/plain": [
       "<matplotlib.axes._subplots.AxesSubplot at 0x119d211d0>"
      ]
     },
     "execution_count": 52,
     "metadata": {},
     "output_type": "execute_result"
    },
    {
     "data": {
      "image/png": "[encoded data removed]",
      "text/plain": [
       "<matplotlib.figure.Figure at 0x119d34198>"
      ]
     },
     "metadata": {},
     "output_type": "display_data"
    }
   ],
   "source": [
    "%matplotlib inline\n",
    "ra_freq_cov['reject'] = ra_freq_cov['reject'].fillna(0)\n",
    "ra_freq_cov[ra_freq_cov['reject'] == 0].plot(x = 'ra_cov', y = 'polymorphism_frequency', kind='scatter', legend=False)"
   ]
  },
  {
   "cell_type": "code",
   "execution_count": 58,
   "metadata": {},
   "outputs": [
    {
     "data": {
      "text/plain": [
       "<matplotlib.axes._subplots.AxesSubplot at 0x11a4187f0>"
      ]
     },
     "execution_count": 58,
     "metadata": {},
     "output_type": "execute_result"
    },
    {
     "data": {
      "image/png": "[encoded data removed]",
      "text/plain": [
       "<matplotlib.figure.Figure at 0x11a4263c8>"
      ]
     },
     "metadata": {},
     "output_type": "display_data"
    }
   ],
   "source": [
    "ra_freq_cov[(ra_freq_cov['reject'] == 0) & (ra_freq_cov['ra_cov'] <= 10)].plot(x = 'ra_cov', y = 'polymorphism_frequency', kind='scatter', legend=False)"
   ]
  },
  {
   "cell_type": "code",
   "execution_count": 54,
   "metadata": {},
   "outputs": [
    {
     "data": {
      "text/plain": [
       "<matplotlib.axes._subplots.AxesSubplot at 0x119df6ba8>"
      ]
     },
     "execution_count": 54,
     "metadata": {},
     "output_type": "execute_result"
    },
    {
     "data": {
      "image/png": "[encoded data removed]",
      "text/plain": [
       "<matplotlib.figure.Figure at 0x11a06d048>"
      ]
     },
     "metadata": {},
     "output_type": "display_data"
    }
   ],
   "source": [
    "jc_freq_cov['reject'] = jc_freq_cov['reject'].fillna(0)\n",
    "jc_freq_cov['jc_cov'] = jc_freq_cov['jc_cov'].astype(int)\n",
    "jc_freq_cov[jc_freq_cov['reject'] == 0].plot(x = 'jc_cov', y = 'polymorphism_frequency', kind='scatter', legend=False)"
   ]
  },
  {
   "cell_type": "code",
   "execution_count": 57,
   "metadata": {},
   "outputs": [
    {
     "data": {
      "text/plain": [
       "<matplotlib.axes._subplots.AxesSubplot at 0x11a31d7f0>"
      ]
     },
     "execution_count": 57,
     "metadata": {},
     "output_type": "execute_result"
    },
    {
     "data": {
      "image/png": "[encoded data removed]",
      "text/plain": [
       "<matplotlib.figure.Figure at 0x11a3325c0>"
      ]
     },
     "metadata": {},
     "output_type": "display_data"
    }
   ],
   "source": [
    "jc_freq_cov[(jc_freq_cov['reject'] == 0) & (jc_freq_cov['jc_cov'] <= 10)].plot(x = 'jc_cov', y = 'polymorphism_frequency', kind='scatter', legend=False)"
   ]
  },
  {
   "cell_type": "code",
   "execution_count": null,
   "metadata": {
    "collapsed": true
   },
   "outputs": [],
   "source": []
  }
 ],
 "metadata": {
  "kernelspec": {
   "display_name": "Python [conda root]",
   "language": "python",
   "name": "conda-root-py"
  },
  "language_info": {
   "codemirror_mode": {
    "name": "ipython",
    "version": 3
   },
   "file_extension": ".py",
   "mimetype": "text/x-python",
   "name": "python",
   "nbconvert_exporter": "python",
   "pygments_lexer": "ipython3",
   "version": "3.6.1"
  }
 },
 "nbformat": 4,
 "nbformat_minor": 2
}
